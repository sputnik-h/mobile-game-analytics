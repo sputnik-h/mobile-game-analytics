{
 "cells": [
  {
   "cell_type": "markdown",
   "id": "d04c850f-2037-4d6b-bc42-22d5016cf65c",
   "metadata": {},
   "source": [
    "# 1. Load Libraries and Data"
   ]
  },
  {
   "cell_type": "code",
   "execution_count": 1,
   "id": "611d4a11-eadb-4af0-ac2d-c8047089c039",
   "metadata": {},
   "outputs": [],
   "source": [
    "import pandas as pd\n",
    "import numpy as np\n",
    "import matplotlib.pyplot as plt\n",
    "import seaborn as sns\n",
    "\n",
    "import statsmodels.stats.api as sms\n",
    "\n",
    "from scipy.stats import skew, kurtosis\n"
   ]
  },
  {
   "cell_type": "code",
   "execution_count": 2,
   "id": "7e8b5bb0-3f95-44b8-8698-0d3aade8b71c",
   "metadata": {},
   "outputs": [],
   "source": [
    "df = pd.read_csv('ab_test.csv', sep = ';')"
   ]
  },
  {
   "cell_type": "markdown",
   "id": "5396b57e-f7f9-479b-ab8e-613c4a415180",
   "metadata": {},
   "source": [
    "# 2.1 Dataset Check and EDA"
   ]
  },
  {
   "cell_type": "code",
   "execution_count": 3,
   "id": "ad836f77-b61b-4620-9f5d-242c5fbeb697",
   "metadata": {},
   "outputs": [
    {
     "data": {
      "text/html": [
       "<div>\n",
       "<style scoped>\n",
       "    .dataframe tbody tr th:only-of-type {\n",
       "        vertical-align: middle;\n",
       "    }\n",
       "\n",
       "    .dataframe tbody tr th {\n",
       "        vertical-align: top;\n",
       "    }\n",
       "\n",
       "    .dataframe thead th {\n",
       "        text-align: right;\n",
       "    }\n",
       "</style>\n",
       "<table border=\"1\" class=\"dataframe\">\n",
       "  <thead>\n",
       "    <tr style=\"text-align: right;\">\n",
       "      <th></th>\n",
       "      <th>user_id</th>\n",
       "      <th>revenue</th>\n",
       "      <th>testgroup</th>\n",
       "    </tr>\n",
       "  </thead>\n",
       "  <tbody>\n",
       "    <tr>\n",
       "      <th>0</th>\n",
       "      <td>1</td>\n",
       "      <td>0</td>\n",
       "      <td>b</td>\n",
       "    </tr>\n",
       "    <tr>\n",
       "      <th>1</th>\n",
       "      <td>2</td>\n",
       "      <td>0</td>\n",
       "      <td>a</td>\n",
       "    </tr>\n",
       "    <tr>\n",
       "      <th>2</th>\n",
       "      <td>3</td>\n",
       "      <td>0</td>\n",
       "      <td>a</td>\n",
       "    </tr>\n",
       "    <tr>\n",
       "      <th>3</th>\n",
       "      <td>4</td>\n",
       "      <td>0</td>\n",
       "      <td>b</td>\n",
       "    </tr>\n",
       "    <tr>\n",
       "      <th>4</th>\n",
       "      <td>5</td>\n",
       "      <td>0</td>\n",
       "      <td>b</td>\n",
       "    </tr>\n",
       "  </tbody>\n",
       "</table>\n",
       "</div>"
      ],
      "text/plain": [
       "   user_id  revenue testgroup\n",
       "0        1        0         b\n",
       "1        2        0         a\n",
       "2        3        0         a\n",
       "3        4        0         b\n",
       "4        5        0         b"
      ]
     },
     "execution_count": 3,
     "metadata": {},
     "output_type": "execute_result"
    }
   ],
   "source": [
    "df.head()"
   ]
  },
  {
   "cell_type": "code",
   "execution_count": 4,
   "id": "9836e013-8b6f-4a9d-9005-29742acc75d8",
   "metadata": {},
   "outputs": [],
   "source": [
    "# Check if user_id is not repetitive\n",
    "if df['user_id'].duplicated().any():\n",
    "    print(\"Duplicates found in user_id. Dropping duplicates...\")\n",
    "    df = df.drop_duplicates(subset='userid')"
   ]
  },
  {
   "cell_type": "code",
   "execution_count": 5,
   "id": "ceeda20d-2a6b-4eee-934f-50b2425da742",
   "metadata": {},
   "outputs": [],
   "source": [
    "# Set user_id as the index\n",
    "df.set_index('user_id', inplace=True)"
   ]
  },
  {
   "cell_type": "code",
   "execution_count": 6,
   "id": "03bfdd1e-6075-4379-9de2-15bfe02ff5ea",
   "metadata": {},
   "outputs": [
    {
     "name": "stdout",
     "output_type": "stream",
     "text": [
      "<class 'pandas.core.frame.DataFrame'>\n",
      "Index: 404770 entries, 1 to 404770\n",
      "Data columns (total 2 columns):\n",
      " #   Column     Non-Null Count   Dtype \n",
      "---  ------     --------------   ----- \n",
      " 0   revenue    404770 non-null  int64 \n",
      " 1   testgroup  404770 non-null  object\n",
      "dtypes: int64(1), object(1)\n",
      "memory usage: 9.3+ MB\n"
     ]
    }
   ],
   "source": [
    "df.info()"
   ]
  },
  {
   "cell_type": "code",
   "execution_count": 7,
   "id": "f1425005-5f57-4963-be75-19d7fa5c478f",
   "metadata": {},
   "outputs": [
    {
     "data": {
      "text/html": [
       "<div>\n",
       "<style scoped>\n",
       "    .dataframe tbody tr th:only-of-type {\n",
       "        vertical-align: middle;\n",
       "    }\n",
       "\n",
       "    .dataframe tbody tr th {\n",
       "        vertical-align: top;\n",
       "    }\n",
       "\n",
       "    .dataframe thead th {\n",
       "        text-align: right;\n",
       "    }\n",
       "</style>\n",
       "<table border=\"1\" class=\"dataframe\">\n",
       "  <thead>\n",
       "    <tr style=\"text-align: right;\">\n",
       "      <th></th>\n",
       "      <th>revenue</th>\n",
       "    </tr>\n",
       "  </thead>\n",
       "  <tbody>\n",
       "    <tr>\n",
       "      <th>count</th>\n",
       "      <td>404770.000000</td>\n",
       "    </tr>\n",
       "    <tr>\n",
       "      <th>mean</th>\n",
       "      <td>26.083435</td>\n",
       "    </tr>\n",
       "    <tr>\n",
       "      <th>std</th>\n",
       "      <td>681.652928</td>\n",
       "    </tr>\n",
       "    <tr>\n",
       "      <th>min</th>\n",
       "      <td>0.000000</td>\n",
       "    </tr>\n",
       "    <tr>\n",
       "      <th>25%</th>\n",
       "      <td>0.000000</td>\n",
       "    </tr>\n",
       "    <tr>\n",
       "      <th>50%</th>\n",
       "      <td>0.000000</td>\n",
       "    </tr>\n",
       "    <tr>\n",
       "      <th>75%</th>\n",
       "      <td>0.000000</td>\n",
       "    </tr>\n",
       "    <tr>\n",
       "      <th>max</th>\n",
       "      <td>37433.000000</td>\n",
       "    </tr>\n",
       "  </tbody>\n",
       "</table>\n",
       "</div>"
      ],
      "text/plain": [
       "             revenue\n",
       "count  404770.000000\n",
       "mean       26.083435\n",
       "std       681.652928\n",
       "min         0.000000\n",
       "25%         0.000000\n",
       "50%         0.000000\n",
       "75%         0.000000\n",
       "max     37433.000000"
      ]
     },
     "execution_count": 7,
     "metadata": {},
     "output_type": "execute_result"
    }
   ],
   "source": [
    "df.describe()"
   ]
  },
  {
   "cell_type": "code",
   "execution_count": 8,
   "id": "7dd8f7fd-ece8-4077-83b7-88afcb906902",
   "metadata": {},
   "outputs": [
    {
     "data": {
      "text/html": [
       "<div>\n",
       "<style scoped>\n",
       "    .dataframe tbody tr th:only-of-type {\n",
       "        vertical-align: middle;\n",
       "    }\n",
       "\n",
       "    .dataframe tbody tr th {\n",
       "        vertical-align: top;\n",
       "    }\n",
       "\n",
       "    .dataframe thead th {\n",
       "        text-align: right;\n",
       "    }\n",
       "</style>\n",
       "<table border=\"1\" class=\"dataframe\">\n",
       "  <thead>\n",
       "    <tr style=\"text-align: right;\">\n",
       "      <th></th>\n",
       "      <th>revenue</th>\n",
       "      <th>testgroup</th>\n",
       "    </tr>\n",
       "    <tr>\n",
       "      <th>user_id</th>\n",
       "      <th></th>\n",
       "      <th></th>\n",
       "    </tr>\n",
       "  </thead>\n",
       "  <tbody>\n",
       "    <tr>\n",
       "      <th>1</th>\n",
       "      <td>0</td>\n",
       "      <td>b</td>\n",
       "    </tr>\n",
       "    <tr>\n",
       "      <th>2</th>\n",
       "      <td>0</td>\n",
       "      <td>a</td>\n",
       "    </tr>\n",
       "    <tr>\n",
       "      <th>3</th>\n",
       "      <td>0</td>\n",
       "      <td>a</td>\n",
       "    </tr>\n",
       "    <tr>\n",
       "      <th>4</th>\n",
       "      <td>0</td>\n",
       "      <td>b</td>\n",
       "    </tr>\n",
       "    <tr>\n",
       "      <th>5</th>\n",
       "      <td>0</td>\n",
       "      <td>b</td>\n",
       "    </tr>\n",
       "  </tbody>\n",
       "</table>\n",
       "</div>"
      ],
      "text/plain": [
       "         revenue testgroup\n",
       "user_id                   \n",
       "1              0         b\n",
       "2              0         a\n",
       "3              0         a\n",
       "4              0         b\n",
       "5              0         b"
      ]
     },
     "execution_count": 8,
     "metadata": {},
     "output_type": "execute_result"
    }
   ],
   "source": [
    "df.head()"
   ]
  },
  {
   "cell_type": "code",
   "execution_count": 9,
   "id": "5dd3119b-ec06-4dfe-b461-e1924b6007fc",
   "metadata": {},
   "outputs": [
    {
     "name": "stdout",
     "output_type": "stream",
     "text": [
      "\n",
      "Descriptive Statistics (including skewness and kurtosis):\n",
      "            count       mean         std  min  25%  50%  75%      max  \\\n",
      "revenue  404770.0  26.083435  681.652928  0.0  0.0  0.0  0.0  37433.0   \n",
      "\n",
      "          skewness     kurtosis  \n",
      "revenue  50.174637  2721.457746  \n"
     ]
    }
   ],
   "source": [
    "# Descriptive statistics with skewness and kurtosis for numeric columns\n",
    "numeric_cols = df.select_dtypes(include=[np.number]).columns\n",
    "descriptive_stats = df[numeric_cols].describe().T\n",
    "descriptive_stats['skewness'] = df[numeric_cols].skew()\n",
    "descriptive_stats['kurtosis'] = df[numeric_cols].kurtosis()\n",
    "print(\"\\nDescriptive Statistics (including skewness and kurtosis):\")\n",
    "print(descriptive_stats)"
   ]
  },
  {
   "cell_type": "code",
   "execution_count": 10,
   "id": "4ba55ee3-98d3-4804-9d6d-121e11791161",
   "metadata": {},
   "outputs": [
    {
     "name": "stdout",
     "output_type": "stream",
     "text": [
      "\n",
      "Percentage of each category in 'testgroup':\n",
      "testgroup\n",
      "b    50.069669\n",
      "a    49.930331\n",
      "Name: proportion, dtype: float64\n"
     ]
    }
   ],
   "source": [
    "test_group_counts = df['testgroup'].value_counts(normalize = True) * 100\n",
    "\n",
    "print(\"\\nPercentage of each category in 'testgroup':\")\n",
    "print(test_group_counts)"
   ]
  },
  {
   "cell_type": "code",
   "execution_count": 11,
   "id": "8bd7cece-6cca-4ead-a9bc-1bb0a3da6e45",
   "metadata": {},
   "outputs": [
    {
     "name": "stdout",
     "output_type": "stream",
     "text": [
      "\n",
      "Descriptive Statistics with Skewness and Kurtosis by testgroup:\n",
      "     level_0 level_1 testgroup                                         0\n",
      "0    revenue   count         a                                  202103.0\n",
      "1    revenue   count         b                                  202667.0\n",
      "2    revenue    mean         a                                  25.41372\n",
      "3    revenue    mean         b                                 26.751287\n",
      "4    revenue     std         a                                920.768137\n",
      "5    revenue     std         b                                287.324162\n",
      "6    revenue     min         a                                       0.0\n",
      "7    revenue     min         b                                       0.0\n",
      "8    revenue     25%         a                                       0.0\n",
      "9    revenue     25%         b                                       0.0\n",
      "10   revenue     50%         a                                       0.0\n",
      "11   revenue     50%         b                                       0.0\n",
      "12   revenue     75%         a                                       0.0\n",
      "13   revenue     75%         b                                       0.0\n",
      "14   revenue     max         a                                   37433.0\n",
      "15   revenue     max         b                                    4000.0\n",
      "16  skewness                      [40.4387748186543, 11.000969653107095]\n",
      "17  kurtosis                    [1634.9089528452519, 122.54846460771881]\n"
     ]
    }
   ],
   "source": [
    "# Group by testgroup and calculate descriptive statistics for numeric columns\n",
    "grouped_stats = df.groupby('testgroup')[numeric_cols].describe()\n",
    "\n",
    "# Additional skewness and kurtosis by version\n",
    "skewness_by_testgroup = df.groupby('testgroup')[numeric_cols].apply(lambda x: x.skew()).unstack()\n",
    "kurtosis_by_testgroup = df.groupby('testgroup')[numeric_cols].apply(lambda x: x.kurtosis()).unstack()\n",
    "\n",
    "# Combine descriptive statistics with skewness and kurtosis\n",
    "grouped_stats = grouped_stats.unstack().T\n",
    "grouped_stats['skewness'] = skewness_by_testgroup.T.values.flatten()\n",
    "grouped_stats['kurtosis'] = kurtosis_by_testgroup.T.values.flatten()\n",
    "grouped_stats = grouped_stats.reset_index()\n",
    "\n",
    "print(\"\\nDescriptive Statistics with Skewness and Kurtosis by testgroup:\")\n",
    "print(grouped_stats)"
   ]
  },
  {
   "cell_type": "code",
   "execution_count": 12,
   "id": "81daee5e-ae88-4fec-86f9-84da6fa79791",
   "metadata": {},
   "outputs": [],
   "source": [
    "# Create a new categorical column for analysis\n",
    "df['in_app_purchase'] = df['revenue'] > 0"
   ]
  },
  {
   "cell_type": "code",
   "execution_count": 13,
   "id": "479d52e9-078c-40b5-8205-9c3f4f86fee8",
   "metadata": {},
   "outputs": [],
   "source": [
    "# Cross-tabulation for version and retention_1\n",
    "crosstab_in_app_purchase = pd.crosstab(df['testgroup'], df['in_app_purchase'], normalize='index')\n",
    "crosstab_in_app_purchase.columns = ['Did not Pay', 'Paid']\n",
    "crosstab_in_app_purchase = crosstab_in_app_purchase.reset_index()"
   ]
  },
  {
   "cell_type": "code",
   "execution_count": 14,
   "id": "b530a9e7-685e-44f2-b445-c9b89964cc66",
   "metadata": {},
   "outputs": [
    {
     "name": "stdout",
     "output_type": "stream",
     "text": [
      "\n",
      "Percentage of each category in 'in_app_purchase':\n",
      "in_app_purchase\n",
      "False    99.077748\n",
      "True      0.922252\n",
      "Name: proportion, dtype: float64\n"
     ]
    }
   ],
   "source": [
    "iap_counts = df['in_app_purchase'].value_counts(normalize=True) * 100\n",
    "print(\"\\nPercentage of each category in 'in_app_purchase':\")\n",
    "print(iap_counts)"
   ]
  },
  {
   "cell_type": "code",
   "execution_count": 15,
   "id": "970b9331-b88e-4b05-a20b-bd9e5c7128a9",
   "metadata": {},
   "outputs": [
    {
     "data": {
      "text/plain": [
       "Text(0, 0.5, 'In App Purchase Rate (%)')"
      ]
     },
     "execution_count": 15,
     "metadata": {},
     "output_type": "execute_result"
    },
    {
     "data": {
      "image/png": "[encoded data removed]",
      "text/plain": [
       "<Figure size 1800x2500 with 4 Axes>"
      ]
     },
     "metadata": {},
     "output_type": "display_data"
    }
   ],
   "source": [
    "# Set the style for seaborn\n",
    "sns.set_style(\"darkgrid\")\n",
    "\n",
    "fig, axes = plt.subplots(4, 1, figsize=(18, 25))\n",
    "fig.suptitle('Data Distributions and Analysis', fontsize=20)\n",
    "\n",
    "# Distribution of the 'test_group' column\n",
    "sns.barplot(x=test_group_counts.index, y=test_group_counts.values, ax=axes[0])\n",
    "axes[0].text(0, test_group_counts.values[0] + 1, f'{test_group_counts.values[0]:.1f}%', ha='center', va='bottom')\n",
    "axes[0].text(1, test_group_counts.values[1] + 1, f'{test_group_counts.values[1]:.1f}%', ha='center', va='bottom')\n",
    "axes[0].set_title('Distribution of Test Group')\n",
    "axes[0].set_ylabel('Percentage')\n",
    "axes[0].set_xlabel('Test Group')\n",
    "\n",
    "# Distribution of 'revenue' as a box plot\n",
    "sns.boxplot(ax=axes[1], y=df['revenue'])\n",
    "axes[1].set_title('Distribution of Revenue')\n",
    "axes[1].set_ylabel('Revenue')\n",
    "axes[1].set_yscale('log')\n",
    "\n",
    "# Analysis of revenue by testgroup\n",
    "sns.boxplot(ax=axes[2], x='testgroup', y='revenue', data=df)\n",
    "axes[2].set_title('Revenue by Test Group')\n",
    "axes[2].set_xlabel('Test Group')\n",
    "axes[2].set_ylabel('Revenue')\n",
    "axes[2].set_yscale('log')\n",
    "\n",
    "# Analysis of IAP by testgroup\n",
    "in_app_purchase_by_testgroup = df.groupby(['testgroup', 'in_app_purchase']).size().reset_index(name='counts')\n",
    "in_app_purchase_by_testgroup['percentage'] = in_app_purchase_by_testgroup['counts'] / in_app_purchase_by_testgroup.groupby('testgroup')['counts'].transform('sum') * 100\n",
    "sns.barplot(ax=axes[3], x='testgroup', y='percentage', hue='in_app_purchase', data=in_app_purchase_by_testgroup)\n",
    "for p in axes[3].patches:\n",
    "    height = p.get_height()\n",
    "    axes[3].text(p.get_x() + p.get_width() / 2., height + 1, f'{height:.1f}%', ha='center', va='bottom')\n",
    "axes[3].set_title('In App Purcahse  by Test Group')\n",
    "axes[3].set_xlabel('Test Group')\n",
    "axes[3].set_ylabel('In App Purchase Rate (%)')"
   ]
  },
  {
   "cell_type": "markdown",
   "id": "e018b89a-7e8d-4265-85b7-2ad83f59485b",
   "metadata": {},
   "source": [
    "### Data Description and Findings\n",
    "\n",
    "The dataset used in this analysis is 'ab_test.csv' from Kaggle page *Gamelytics: Mobile Analytics Challenge*. It contains two different test groups and their corrosponding revenue in game. Below is a detailed description of each column, including the data types and a brief explanation.\n",
    "\n",
    "#### Columns:\n",
    "1. **testgroup** (object)\n",
    "- Indicates whether the user experienced the control or treatment feature of the game.\n",
    "- Values: a (control), b (treatment)\n",
    "- Distribution:\n",
    "  - a (Control): 49.93%\n",
    "  - b (Treatment): 50.07%\n",
    "- The distribution of the testgroup column is nearly equal, making it suitable for A/B testing as it ensures a balanced comparison between the control and treatment groups.\n",
    "\n",
    "2. **revenue** *(int)*\n",
    "\n",
    "- Total revenue the game gained from the player.\n",
    "- **Descriptive Statistics:**\n",
    "  - Mean:26.083435\n",
    "  - Standard Deviation: 681.652928\n",
    "  - Minimum: 0.000000\n",
    "  - 25th Percentile: 0.000000\n",
    "  - Median:\t0.000000\n",
    "  - 75th Percentile: 0.000000\n",
    "  - Maximum: 37433.000000\n",
    "  - Skewness: 50.174637\n",
    "  - Kurtosis: 2721.457746\n",
    "- Insight\n",
    "  - The distribution of the `revenue` column is highly skewed and has a high kurtosis value, indicating that most users almost never pay in the game while there are outliers pay a significantly larger amount of money.\n",
    " \n",
    "3. **in_app_purchase** (bool)\n",
    "- Indicates whether a player pays or not.\n",
    "- Values: `True`, `False`\n",
    "- Distribution:\n",
    "  - True: 0.92%\n",
    "  - False: 99.08%\n",
    "- Insight\n",
    "    - The distribution of `in_app_purchase` is highly unbalanced, with over 99% of players did not any in game.\n",
    "\n",
    "#### Dataset Overview\n",
    "- Total rows: 404, 770 "
   ]
  },
  {
   "cell_type": "markdown",
   "id": "bbadbf3d-5ba2-4fb9-90f0-573325ab0788",
   "metadata": {},
   "source": [
    "# 2.2 Define the Problem\n",
    "The developers are planning to introduce a new feature in the mobile game as part of a limited-time event. Specifically, they are considering implementing a penalty mechanism where players will be penalized for failed attempts. \n",
    "\n",
    "The underlying idea is that by combining exclusive rewards with increased difficulty, players may feel more incentivized to complete the event—potentially leading to increased in-game spending.\n",
    "\n",
    "**Objective 1**: Has the feature increased revenue by 10 dollars? \n",
    "- **Null Hypothsis(H0)**: The averge revenue in the treatment group has not increased by 10 compared to the control group\n",
    "- **Alternative Hypothsis(Ha)**: The averge revenue in the treatment group has increased by 10 compared to the control group\n",
    "  \n",
    "**Objective 2**: Has the feature increased in-app purchase rate by 1%? \n",
    "- **Null Hypothsis(H0)**: The averge in-app purchase rate in the treatment group has not increased by 1% compared to the control group\n",
    "- **Alternative Hypothsis(Ha)**: The averge in-app purchase rate in the treatment group has increased by 1% compared to the control group"
   ]
  },
  {
   "cell_type": "markdown",
   "id": "16f5ed56-ec09-43c7-b31e-b85b4fed0e5d",
   "metadata": {},
   "source": [
    "# 3. Set the Significance Level and Power of the Test"
   ]
  },
  {
   "cell_type": "code",
   "execution_count": 29,
   "id": "fbbbfd88-0bc5-4b4e-91ac-283c31456e38",
   "metadata": {},
   "outputs": [],
   "source": [
    "# Define alpha, beta, and power\n",
    "alpha = 0.05\n",
    "beta = 0.20\n",
    "power = 1 - beta"
   ]
  },
  {
   "cell_type": "markdown",
   "id": "7d52d6aa-1349-4db5-aaf5-160dad6cd41c",
   "metadata": {},
   "source": [
    "# 4.1 Calculate Sample Size and Choose Sample for Continuous A/B Test"
   ]
  },
  {
   "cell_type": "code",
   "execution_count": 30,
   "id": "f99e6614-a755-439c-841c-d93b52c2796d",
   "metadata": {},
   "outputs": [],
   "source": [
    "# Separate control and treatment groups\n",
    "control_group = df[df['testgroup'] == 'a']\n",
    "treatment_group = df[df['testgroup'] == 'b']"
   ]
  },
  {
   "cell_type": "code",
   "execution_count": 31,
   "id": "7c926458-82d0-4ace-8580-e8539cb7a3e1",
   "metadata": {},
   "outputs": [
    {
     "name": "stdout",
     "output_type": "stream",
     "text": [
      "Required sample size for average number of game sessions test: 72939\n"
     ]
    }
   ],
   "source": [
    "# Define effect size for the continuous outcome\n",
    "effect_size_revenue = 10  # Difference in average revenue\n",
    "\n",
    "# Calculate the standard deviation of the revenue column\n",
    "std_dev_revenue = df['revenue'].std()\n",
    "\n",
    "# Calculate the required sample size for the continuous outcome using statsmodels\n",
    "n_revenue = sms.NormalIndPower().solve_power(effect_size=effect_size_revenue / std_dev_revenue, power=power, alpha=alpha, ratio=1)\n",
    "\n",
    "print(f\"Required sample size for average number of game sessions test: {int(n_revenue)}\")"
   ]
  },
  {
   "cell_type": "code",
   "execution_count": 32,
   "id": "a1ac37b3-b142-4e53-bacf-b5926c160287",
   "metadata": {},
   "outputs": [
    {
     "name": "stdout",
     "output_type": "stream",
     "text": [
      "Sample size for control group (revenue): 72939\n",
      "Sample size for treatment group (revenue): 72939\n"
     ]
    }
   ],
   "source": [
    "# Randomly select users for control and treatment groups based on the calculated sample size for revenue\n",
    "control_revenue = control_group.sample(n=int(n_revenue), random_state=42)\n",
    "treatment_revenue = treatment_group.sample(n=int(n_revenue), random_state=42)\n",
    "\n",
    "# Verify the sample sizes\n",
    "print(f\"Sample size for control group (revenue): {len(control_revenue)}\")\n",
    "print(f\"Sample size for treatment group (revenue): {len(treatment_revenue)}\")"
   ]
  },
  {
   "cell_type": "markdown",
   "id": "df1d79ac-3d47-44f6-a315-ea7350de62be",
   "metadata": {},
   "source": [
    "# 4.2 Calculate Sample Size and Choose Sample for Binary A/B Test"
   ]
  },
  {
   "cell_type": "code",
   "execution_count": 33,
   "id": "d988992f-dc95-4133-9a2c-48bccb9a9ab3",
   "metadata": {
    "scrolled": true
   },
   "outputs": [
    {
     "data": {
      "text/plain": [
       "{'Required sample size for in-app pruchase test': 2181}"
      ]
     },
     "execution_count": 33,
     "metadata": {},
     "output_type": "execute_result"
    }
   ],
   "source": [
    "# Recompute crosstabs for iap by testgroup\n",
    "crosstab_iap = pd.crosstab(df['testgroup'], df['in_app_purchase'], normalize='index')\n",
    "\n",
    "# Extract baseline proportions from crosstab results\n",
    "p1_iap = crosstab_iap.loc['a', True]\n",
    "\n",
    "# Define expected improvements\n",
    "p2_iap = p1_iap + 0.01  # 1% increase for IAP rate\n",
    "\n",
    "# Define alpha, beta, and calculate power\n",
    "alpha = 0.05\n",
    "beta = 0.20\n",
    "power = 1 - beta\n",
    "\n",
    "# Calculate effect sizes and required sample sizes\n",
    "effect_size_iap = sms.proportion_effectsize(p1_iap, p2_iap)\n",
    "n_iap = sms.NormalIndPower().solve_power(effect_size=effect_size_iap, power=power, alpha=alpha, ratio=1)\n",
    "\n",
    "required_sample_sizes = {\n",
    "    \"Required sample size for in-app pruchase test\": int(n_iap),\n",
    "}\n",
    "\n",
    "required_sample_sizes"
   ]
  },
  {
   "cell_type": "code",
   "execution_count": 34,
   "id": "200f3c33-46d6-49bd-9e7d-342e5637e01b",
   "metadata": {},
   "outputs": [
    {
     "name": "stdout",
     "output_type": "stream",
     "text": [
      "Sample size for control group (IAP): 2181\n",
      "Sample size for treatment group (IAP): 2181\n"
     ]
    }
   ],
   "source": [
    "# Set random seed for reproducibility\n",
    "np.random.seed(42)\n",
    "\n",
    "# Randomly select users for control and treatment groups based on the calculated sample size for IAP\n",
    "control_iap = control_group.sample(n=int(n_iap), random_state=42)\n",
    "treatment_iap = treatment_group.sample(n=int(n_iap), random_state=42)\n",
    "\n",
    "# Verify the sample sizes\n",
    "print(f\"Sample size for control group (IAP): {len(control_iap)}\")\n",
    "print(f\"Sample size for treatment group (IAP): {len(treatment_iap)}\")"
   ]
  },
  {
   "cell_type": "markdown",
   "id": "ed09f318-9708-489b-b8c2-a2f4b9946d15",
   "metadata": {},
   "source": [
    "# 5.1 Perform A/B Test for 'revenue'"
   ]
  },
  {
   "cell_type": "code",
   "execution_count": 35,
   "id": "4347ea51-312a-4a74-92b5-1471a9ab20ca",
   "metadata": {},
   "outputs": [
    {
     "name": "stdout",
     "output_type": "stream",
     "text": [
      "Control group - Mean: 28.23270129834519, Std Dev: 977.130611885454\n",
      "Treatment group - Mean: 26.918726607164892, Std Dev: 287.5511261870373\n",
      "Assumption met: The variances of the two groups are equal.\n",
      "T-statistic for revenue: -0.34840080798325485\n",
      "P-value for revenue: 0.6362301507091461\n",
      "Fail to reject the null hypothesis: The average revenue in the treatment group is not significantly greater than in the control group.\n"
     ]
    }
   ],
   "source": [
    "from scipy.stats import ttest_ind, levene\n",
    "\n",
    "# Define alpha\n",
    "alpha = 0.05\n",
    "\n",
    "# Calculate the means and standard deviations of the sum of game rounds in both groups\n",
    "mean_control_gamerounds = control_revenue['revenue'].mean()\n",
    "mean_treatment_gamerounds = treatment_revenue['revenue'].mean()\n",
    "std_control_gamerounds = control_revenue['revenue'].std()\n",
    "std_treatment_gamerounds = treatment_revenue['revenue'].std()\n",
    "\n",
    "print(f\"Control group - Mean: {mean_control_gamerounds}, Std Dev: {std_control_gamerounds}\")\n",
    "print(f\"Treatment group - Mean: {mean_treatment_gamerounds}, Std Dev: {std_treatment_gamerounds}\")\n",
    "\n",
    "# Perform Levene's test for equality of variances\n",
    "stat, p_levene = levene(control_revenue['revenue'], treatment_revenue['revenue'])\n",
    "\n",
    "# Check if variances are equal\n",
    "if p_levene < alpha:\n",
    "    print(\"Assumption not met: The variances of the two groups are not equal. Switching to Welch's t-test.\")\n",
    "    equal_var = False\n",
    "else:\n",
    "    print(\"Assumption met: The variances of the two groups are equal.\")\n",
    "    equal_var = True\n",
    "\n",
    "# Perform a one-tailed t-test directly comparing the two groups\n",
    "t_stat_revenue, p_val_revenue = ttest_ind(treatment_revenue['revenue'], control_revenue['revenue'], equal_var=equal_var, alternative='greater')\n",
    "\n",
    "# Print the results\n",
    "print(f\"T-statistic for revenue: {t_stat_revenue}\")\n",
    "print(f\"P-value for revenue: {p_val_revenue}\")\n",
    "\n",
    "# Determine if the result is statistically significant\n",
    "if p_val_revenue < alpha:\n",
    "    print(\"Reject the null hypothesis: The average revenue in the treatment group is significantly greater than in the control group.\")\n",
    "else:\n",
    "    print(\"Fail to reject the null hypothesis: The average revenue in the treatment group is not significantly greater than in the control group.\")"
   ]
  },
  {
   "cell_type": "markdown",
   "id": "d0f4943e-70a9-4eb4-aa91-487aed433d5c",
   "metadata": {},
   "source": [
    "# 5.2 Perform A/B Test for 'in-app purchase'"
   ]
  },
  {
   "cell_type": "code",
   "execution_count": 39,
   "id": "a67ef3be-59bd-4542-a5d9-5770844efaa5",
   "metadata": {},
   "outputs": [
    {
     "name": "stdout",
     "output_type": "stream",
     "text": [
      "All assumptions are met for the Z-test.\n",
      "Z-statistic for IAP: -0.8215979628916257\n",
      "P-value for IAP: 0.7943471254616273\n",
      "Fail to reject the null hypothesis: The in-app purchase rate has not significantly increased.\n"
     ]
    }
   ],
   "source": [
    "from statsmodels.stats.proportion import proportions_ztest\n",
    "\n",
    "# Define alpha \n",
    "alpha = 0.05\n",
    "\n",
    "# Calculate the observed proportions of retention in both groups\n",
    "p_control = control_iap['in_app_purchase'].mean()\n",
    "p_treatment = treatment_iap['in_app_purchase'].mean()\n",
    "n_control = len(control_iap)\n",
    "n_treatment = len(treatment_iap)\n",
    "\n",
    "# Ensure np and n(1-p) are greater than 5 for both groups\n",
    "assumptions_met = True\n",
    "if n_control * p_control <= 5:\n",
    "    print(\"Assumption not met: np > 5 for control group\")\n",
    "    assumptions_met = False\n",
    "if n_control * (1 - p_control) <= 5:\n",
    "    print(\"Assumption not met: n(1-p) > 5 for control group\")\n",
    "    assumptions_met = False\n",
    "if n_treatment * p_treatment <= 5:\n",
    "    print(\"Assumption not met: np > 5 for treatment group\")\n",
    "    assumptions_met = False\n",
    "if n_treatment * (1 - p_treatment) <= 5:\n",
    "    print(\"Assumption not met: n(1-p) > 5 for treatment group\")\n",
    "    assumptions_met = False\n",
    "\n",
    "if assumptions_met:\n",
    "    print(\"All assumptions are met for the Z-test.\")\n",
    "\n",
    "    # Calculate the number of successes (retained users) and the number of trials (total users) in both groups\n",
    "    successes_iap = [treatment_iap['in_app_purchase'].sum(), control_iap['in_app_purchase'].sum()]\n",
    "    n_obs_iap = [len(treatment_iap), len(control_iap)]\n",
    "\n",
    "    # Perform a one-tailed Z-test for proportions to check if the treatment is better than control\n",
    "    z_stat_iap, p_val_iap = proportions_ztest(successes_iap, n_obs_iap, value=0, alternative='larger')\n",
    "    \n",
    "    # Print the results\n",
    "    print(f\"Z-statistic for IAP: {z_stat_iap}\")\n",
    "    print(f\"P-value for IAP: {p_val_iap}\")\n",
    "\n",
    "    # Determine if the result is statistically significant\n",
    "    if p_val_iap < alpha:\n",
    "        print(\"Reject the null hypothesis: The in-app purchase rate has significantly increased.\")\n",
    "    else:\n",
    "        print(\"Fail to reject the null hypothesis: The in-app purchase rate has not significantly increased.\")\n",
    "else:\n",
    "    print(\"Z-test assumptions not met, cannot perform the test.\")"
   ]
  },
  {
   "cell_type": "markdown",
   "id": "b30161a5-f6b9-4b89-9184-18109e53822b",
   "metadata": {},
   "source": [
    "# 6. Test Result Findings\n",
    "#### Revenue (T-Test)\n",
    "\n",
    "- **Objective:** Test if the average revenue from the treatment group is significantly greater than that from the control group.\n",
    "- **Test Used:** One-tailed Two-Sample T-Test\n",
    "- **T-statistic:** -0.34  \n",
    "- **P-value:** 0.63\n",
    "\n",
    "**Conclusion:**  \n",
    "The p-value (0.63) is greater than the significance level α = 0.05.  \n",
    "➡️ *Fail to reject the null hypothesis:*  \n",
    "There is no statistically significant increase in average revenue in the treatment group compared to the control group.\n",
    "\n",
    "\n",
    "#### In-App Purchase Rate (Z-Test for Proportions)\n",
    "\n",
    "- **Objective:** Test if the proportion of users making in-app purchases is significantly higher in the treatment group.\n",
    "- **Test Used:** One-tailed Z-Test for proportions\n",
    "- **Z-statistic:** -0.82  \n",
    "- **P-value:** 0.79\n",
    "\n",
    "**Conclusion:**  \n",
    "The p-value (0.79) is again greater than α = 0.05.  \n",
    "➡️ *Fail to reject the null hypothesis:*  \n",
    "There is no statistically significant increase in the in-app purchase rate in the treatment group.\n",
    "\n",
    "\n",
    "### 🧾 Overall Summary\n",
    "\n",
    "Despite the hypothesis that introducing a penalty mechanism would increase monetization through pressure and exclusivity, the A/B tests on both **revenue** and **in-app purchase rate** did **not show statistically significant improvements**. \n",
    "\n",
    "It is recommended to further explore:\n",
    "- User segmentation (e.g., whales vs casual players)\n",
    "- Longer observation windows\n",
    "- Different implementation of challenge-reward balance\n"
   ]
  }
 ],
 "metadata": {
  "kernelspec": {
   "display_name": "Python 3 (ipykernel)",
   "language": "python",
   "name": "python3"
  },
  "language_info": {
   "codemirror_mode": {
    "name": "ipython",
    "version": 3
   },
   "file_extension": ".py",
   "mimetype": "text/x-python",
   "name": "python",
   "nbconvert_exporter": "python",
   "pygments_lexer": "ipython3",
   "version": "3.12.7"
  }
 },
 "nbformat": 4,
 "nbformat_minor": 5
}
